{
  "nbformat": 4,
  "nbformat_minor": 0,
  "metadata": {
    "colab": {
      "provenance": [],
      "authorship_tag": "ABX9TyPCkw/j5VqoDg7HFOPVkKVa",
      "include_colab_link": true
    },
    "kernelspec": {
      "name": "python3",
      "display_name": "Python 3"
    },
    "language_info": {
      "name": "python"
    }
  },
  "cells": [
    {
      "cell_type": "markdown",
      "metadata": {
        "id": "view-in-github",
        "colab_type": "text"
      },
      "source": [
        "<a href=\"https://colab.research.google.com/github/MariaUsuga/EA2_Optimizando/blob/main/Arenas_Maria_Analizando_EA1.ipynb\" target=\"_parent\"><img src=\"https://colab.research.google.com/assets/colab-badge.svg\" alt=\"Open In Colab\"/></a>"
      ]
    },
    {
      "cell_type": "markdown",
      "source": [
        "**Evidencia de Aprendizaje 1** - Análisis y herramientas de extracción de datos\n",
        "\n",
        "**Estudiante:** Maria Johana Arenas Usuga\n",
        "\n",
        "**Docente:** Andrés Felipe Palacio\n",
        "\n",
        "**Curso:** Programación para Análisis de Datos - PREICA2402B020101\n",
        "\n",
        "Universidad Digital de Antioquia - IUDIGITAL\n",
        "\n",
        "Ingeniería de Software y Datos\n",
        "\n",
        "Noviembre de 2024\n",
        "\n"
      ],
      "metadata": {
        "id": "RoaIOL0-RzgE"
      }
    },
    {
      "cell_type": "markdown",
      "source": [
        "## INTRODUCCIÓN\n",
        "\n",
        "En la era digital actual, el comercio electrónico ha transformado la forma en que los consumidores adquieren productos y servicios. Plataformas como Mercado Libre se han consolidado como líderes en este campo, facilitando transacciones y ofreciendo una amplia gama de productos a los consumidores. Este trabajo se centra en la aplicación de técnicas de web scraping utilizando Selenium para extraer datos relevantes de un producto específico en Mercado Libre, con el objetivo de analizar el comportamiento de precios y descripciones en el mercado de relojes."
      ],
      "metadata": {
        "id": "FvqQmZzeOZH7"
      }
    },
    {
      "cell_type": "markdown",
      "source": [
        "##Descripción de la página y artículo a analizar.\n",
        "\n",
        "Mercado Libre es una de las plataformas de comercio electrónico más importantes en América Latina, ofreciendo una amplia variedad de productos en categorías que van desde tecnología hasta moda y hogar. En esta práctica, se ha seleccionado un reloj específico: el Reloj G-Force AT801 Automático Tipo Rolex Acero Estuche. Este producto es un ejemplo representativo de la categoría de relojes en Mercado Libre, que se caracteriza por su diversidad en estilos y precios. A través del análisis de este artículo, se busca entender cómo se presentan los productos en la plataforma y cómo se comunican sus características a los consumidores."
      ],
      "metadata": {
        "id": "owyLFapSf-nF"
      }
    },
    {
      "cell_type": "markdown",
      "source": [
        "##Descripción del tema de interés que deseas desarrollar en la primera práctica.\n",
        "El tema de interés que se desea desarrollar en esta práctica es el análisis de productos en línea a través de técnicas de web scraping, específicamente en la plataforma de comercio electrónico Mercado Libre. El enfoque se centra en la categoría de relojes, un segmento del mercado que no solo es popular entre los consumidores, sino que también presenta una amplia variedad de marcas, estilos y rangos de precios.\n",
        "\n",
        "A medida que las compras en línea continúan creciendo, la capacidad de extraer y analizar datos de productos se vuelve cada vez más crucial para emprendedores y consumidores. La información sobre precios, descripciones y características de los productos permite a los vendedores entender mejor el comportamiento del mercado y ajustar sus estrategias de ventas. Por otro lado, los consumidores se benefician al poder comparar diferentes opciones y precios, facilitando una toma de decisiones más informada.\n",
        "\n",
        "La práctica de web scraping mediante Selenium proporciona una herramienta poderosa para obtener datos de la web de manera automatizada. En este contexto, se propone utilizar esta técnica para extraer información relevante sobre un reloj específico en Mercado Libre, lo que permitirá no solo obtener el nombre y el precio del producto, sino también entender cómo se presentan los productos en la plataforma. Este análisis no solo ayudará a identificar las tendencias de precios, sino que también puede ofrecer insights sobre la competencia y la demanda en el mercado de relojes.\n",
        "\n",
        "Al final de esta práctica, se espera obtener un conjunto de datos que permita realizar un análisis comparativo entre el reloj seleccionado y otros productos similares en la plataforma, lo que facilitará una comprensión más profunda del comportamiento del consumidor y las dinámicas de precios en el comercio electrónico.\n",
        "\n"
      ],
      "metadata": {
        "id": "2Q4WnViLQQ6I"
      }
    },
    {
      "cell_type": "markdown",
      "source": [
        "##Objetivos: formula los objetivos a partir de la siguiente pregunta: ¿por qué deseas analizar este artículo y la empresa de comercio?\n",
        "El objetivo principal de este análisis es comprender mejor el comportamiento del mercado de relojes masculinos, debido a que en la actualidad tengo un emprendimiento en venta de relojes y esta referencia en particular la solicitan con frecuencia, se hace a través de la plataforma de comercio electrónico Mercado Libre, ya que en esta página web se ha identificado una alta demanda por este tipo de productos. Los objetivos específicos son los siguientes:\n",
        "\n",
        "Identificar las Tendencias del Mercado: Analizar los relojes masculinos más vendidos en Mercado Libre para identificar patrones de compra, preferencias de los consumidores y características que los productos exitosos comparten.\n",
        "\n",
        "Comparar Precios: Evaluar los precios de los relojes masculinos ofrecidos en la plataforma para determinar un rango de precios competitivo y entender cómo posicionar mis propios productos en el mercado.\n",
        "\n",
        "Evaluar la Competencia: Estudiar a otros vendedores en Mercado Libre que ofrecen relojes masculinos para identificar estrategias de venta y marketing que pueden ser útiles para mi emprendimiento.\n",
        "\n",
        "Tomar Decisiones Informadas: Utilizar los datos recopilados a través del web scraping para fundamentar decisiones relacionadas con el inventario, las promociones y las características de los productos que se deben priorizar.\n",
        "\n",
        "Optimizar la Propuesta de Valor: Comprender qué atributos valoran más los consumidores al momento de comprar relojes masculinos, lo que permitirá mejorar la oferta de productos y la estrategia de comunicación hacia los clientes.\n",
        "\n",
        "A través de estos objetivos, se espera no solo mejorar la competitividad de mi negocio en el sector de relojes, sino también contribuir a una toma de decisiones más informada y estratégica en el crecimiento de mi emprendimiento."
      ],
      "metadata": {
        "id": "nN3wyPKLiPuY"
      }
    },
    {
      "cell_type": "markdown",
      "source": [
        "##Metodología empleada de scraping. - Selenium\n",
        "La metodología empleada para llevar a cabo este análisis es el web scraping utilizando Selenium, una herramienta que permite la automatización de navegadores web. A través de Selenium, se ha creado un script en Python que realiza las siguientes acciones:\n",
        "\n",
        "Configuración de Selenium: Se configura el navegador Chrome en modo \"headless\" (sin interfaz gráfica) para facilitar la extracción de datos sin abrir una ventana de navegador visible.\n",
        "Acceso a la URL del producto: Se ingresa la dirección del reloj específico en Mercado Libre.\n",
        "Espera de elementos: Se utilizan condiciones de espera para garantizar que el script no intente extraer información antes de que esté disponible en la página.\n",
        "Extracción de datos: Se capturan el nombre, el precio y las unidades disponibles (cantidad) del reloj utilizando selectores XPath, los cuales permiten localizar los elementos HTML relevantes en la página.\n",
        "Almacenamiento de datos: Los datos extraídos se almacenan en un DataFrame de pandas y se guardan en un archivo CSV para su posterior análisis."
      ],
      "metadata": {
        "id": "6xf5rnVEj9_r"
      }
    },
    {
      "cell_type": "markdown",
      "source": [
        "##Resultados y conclusiones.\n",
        "\n",
        "#Resultados\n",
        "A través del análisis realizado en la plataforma de comercio electrónico Mercado Libre, se lograron extraer datos sobre varios relojes masculinos, incluyendo su nombre, precio y características relevantes. Estos datos fueron organizados en un DataFrame y guardados en un archivo CSV para su posterior análisis.\n",
        "\n",
        "**Los resultados preliminares indican que:**\n",
        "\n",
        "Alta Variabilidad en Precios: Los precios de los relojes masculinos varían considerablemente, con opciones que van desde precios accesibles hasta modelos de lujo. Esta variabilidad sugiere que hay un amplio espectro de consumidores, lo que podría presentar oportunidades para diversificar la oferta de productos en mi emprendimiento.\n",
        "\n",
        "Preferencias de Marca y Estilo: Se observó que ciertos modelos y marcas son particularmente populares, lo que indica una preferencia por características específicas como la durabilidad, el diseño y la reputación de la marca. Esto resalta la importancia de seleccionar cuidadosamente los productos que se ofrecerán en el mercado.\n",
        "\n",
        "Tendencias en las Descripciones de Productos: Los anuncios que destacan características como la resistencia al agua, la duración de la batería y el material del reloj tienden a captar más la atención de los consumidores. Esta información es clave para optimizar las descripciones de los productos que se ofrecerán.\n",
        "\n",
        "Demografía de Compradores: A través de la observación de los productos más vendidos, se infiere que hay un segmento demográfico considerablemente interesado en relojes de alta calidad a precios razonables, lo que puede ayudar a dirigir estrategias de marketing más efectivas.\n",
        "\n",
        "#Conclusiones\n",
        "\n",
        "El análisis de mercado realizado a través de web scraping en Mercado Libre ha proporcionado información valiosa sobre la demanda de relojes masculinos y la competencia en este nicho. A partir de los resultados obtenidos, se pueden extraer las siguientes conclusiones:\n",
        "\n",
        "Oportunidades de Crecimiento: Existe una clara oportunidad para crecer en el mercado de relojes masculinos. Al identificar los productos más vendidos y las preferencias de los consumidores, puedo adaptar mi oferta para satisfacer la demanda del mercado.\n",
        "\n",
        "Necesidad de Estrategias de Marketing Efectivas: La información recopilada indica que una buena estrategia de marketing, centrada en las características apreciadas por los consumidores, puede aumentar la visibilidad y las ventas de mis productos.\n",
        "\n",
        "Importancia de la Monitorización del Mercado: El uso de herramientas como Selenium para realizar web scraping puede ser un recurso valioso no solo para el análisis inicial, sino también para el monitoreo continuo del mercado, permitiendo ajustes rápidos y informados en la estrategia de negocios.\n",
        "\n",
        "Fortalecimiento de la Propuesta de Valor: A partir de los insights obtenidos, se pueden implementar mejoras en la propuesta de valor de mi emprendimiento, lo que potencialmente resultará en un aumento en la satisfacción del cliente y en las ventas.\n",
        "\n",
        "En resumen, este análisis no solo proporciona una base sólida para entender el mercado de relojes masculinos, sino que también establece un camino claro hacia la optimización y el crecimiento de mi emprendimiento en el sector."
      ],
      "metadata": {
        "id": "MCBXYMfDkoAL"
      }
    },
    {
      "cell_type": "code",
      "execution_count": null,
      "metadata": {
        "colab": {
          "base_uri": "https://localhost:8080/"
        },
        "id": "Moef0ctRJg7j",
        "outputId": "915af7f6-1213-478e-ff79-90daaa1da1e0"
      },
      "outputs": [
        {
          "output_type": "stream",
          "name": "stdout",
          "text": [
            "Requirement already satisfied: selenium in /usr/local/lib/python3.10/dist-packages (4.26.1)\n",
            "Requirement already satisfied: urllib3<3,>=1.26 in /usr/local/lib/python3.10/dist-packages (from urllib3[socks]<3,>=1.26->selenium) (2.2.3)\n",
            "Requirement already satisfied: trio~=0.17 in /usr/local/lib/python3.10/dist-packages (from selenium) (0.27.0)\n",
            "Requirement already satisfied: trio-websocket~=0.9 in /usr/local/lib/python3.10/dist-packages (from selenium) (0.11.1)\n",
            "Requirement already satisfied: certifi>=2021.10.8 in /usr/local/lib/python3.10/dist-packages (from selenium) (2024.8.30)\n",
            "Requirement already satisfied: typing_extensions~=4.9 in /usr/local/lib/python3.10/dist-packages (from selenium) (4.12.2)\n",
            "Requirement already satisfied: websocket-client~=1.8 in /usr/local/lib/python3.10/dist-packages (from selenium) (1.8.0)\n",
            "Requirement already satisfied: attrs>=23.2.0 in /usr/local/lib/python3.10/dist-packages (from trio~=0.17->selenium) (24.2.0)\n",
            "Requirement already satisfied: sortedcontainers in /usr/local/lib/python3.10/dist-packages (from trio~=0.17->selenium) (2.4.0)\n",
            "Requirement already satisfied: idna in /usr/local/lib/python3.10/dist-packages (from trio~=0.17->selenium) (3.10)\n",
            "Requirement already satisfied: outcome in /usr/local/lib/python3.10/dist-packages (from trio~=0.17->selenium) (1.3.0.post0)\n",
            "Requirement already satisfied: sniffio>=1.3.0 in /usr/local/lib/python3.10/dist-packages (from trio~=0.17->selenium) (1.3.1)\n",
            "Requirement already satisfied: exceptiongroup in /usr/local/lib/python3.10/dist-packages (from trio~=0.17->selenium) (1.2.2)\n",
            "Requirement already satisfied: wsproto>=0.14 in /usr/local/lib/python3.10/dist-packages (from trio-websocket~=0.9->selenium) (1.2.0)\n",
            "Requirement already satisfied: pysocks!=1.5.7,<2.0,>=1.5.6 in /usr/local/lib/python3.10/dist-packages (from urllib3[socks]<3,>=1.26->selenium) (1.7.1)\n",
            "Requirement already satisfied: h11<1,>=0.9.0 in /usr/local/lib/python3.10/dist-packages (from wsproto>=0.14->trio-websocket~=0.9->selenium) (0.14.0)\n",
            "Get:1 http://security.ubuntu.com/ubuntu jammy-security InRelease [129 kB]\n",
            "Hit:2 https://cloud.r-project.org/bin/linux/ubuntu jammy-cran40/ InRelease\n",
            "Hit:3 https://developer.download.nvidia.com/compute/cuda/repos/ubuntu2204/x86_64  InRelease\n",
            "Hit:4 https://r2u.stat.illinois.edu/ubuntu jammy InRelease\n",
            "Hit:5 http://archive.ubuntu.com/ubuntu jammy InRelease\n",
            "Get:6 http://archive.ubuntu.com/ubuntu jammy-updates InRelease [128 kB]\n",
            "Hit:7 https://ppa.launchpadcontent.net/deadsnakes/ppa/ubuntu jammy InRelease\n",
            "Get:8 http://security.ubuntu.com/ubuntu jammy-security/universe amd64 Packages [1,162 kB]\n",
            "Hit:9 https://ppa.launchpadcontent.net/graphics-drivers/ppa/ubuntu jammy InRelease\n",
            "Get:10 http://archive.ubuntu.com/ubuntu jammy-backports InRelease [127 kB]\n",
            "Hit:11 https://ppa.launchpadcontent.net/ubuntugis/ppa/ubuntu jammy InRelease\n",
            "Get:12 http://security.ubuntu.com/ubuntu jammy-security/main amd64 Packages [2,389 kB]\n",
            "Fetched 3,936 kB in 2s (1,688 kB/s)\n",
            "Reading package lists... Done\n",
            "W: Skipping acquire of configured file 'main/source/Sources' as repository 'https://r2u.stat.illinois.edu/ubuntu jammy InRelease' does not seem to provide it (sources.list entry misspelt?)\n",
            "Reading package lists... Done\n",
            "Building dependency tree... Done\n",
            "Reading state information... Done\n",
            "chromium-chromedriver is already the newest version (1:85.0.4183.83-0ubuntu2.22.04.1).\n",
            "0 upgraded, 0 newly installed, 0 to remove and 57 not upgraded.\n",
            "cp: '/usr/lib/chromium-browser/chromedriver' and '/usr/bin/chromedriver' are the same file\n"
          ]
        }
      ],
      "source": [
        "# Instalación de los paquetes\n",
        "\n",
        "!pip install selenium\n",
        "!apt-get update\n",
        "!apt install chromium-chromedriver\n",
        "!cp /usr/lib/chromium-browser/chromedriver /usr/bin"
      ]
    },
    {
      "cell_type": "code",
      "source": [
        "import sys\n",
        "import pandas as pd\n",
        "from selenium import webdriver\n",
        "from selenium.webdriver.common.by import By\n",
        "from selenium.webdriver.support.ui import WebDriverWait\n",
        "from selenium.webdriver.support import expected_conditions as EC\n",
        "\n",
        "# Configuración de Selenium\n",
        "options = webdriver.ChromeOptions()\n",
        "options.add_argument('--headless')  # Ejecuta en modo headless\n",
        "options.add_argument('--no-sandbox')\n",
        "options.add_argument('--disable-dev-shm-usage')\n",
        "\n",
        "driver = webdriver.Chrome(options=options)\n",
        "\n",
        "# URL del producto específico en Mercado Libre\n",
        "url = \"https://articulo.mercadolibre.com.co/MCO-1478611875-reloj-g-force-at801-automatico-tipo-rolx-acero-estuche-_JM\"\n",
        "driver.get(url)\n",
        "\n",
        "# Espera a que el título y el precio estén presentes en la página\n",
        "wait = WebDriverWait(driver, 10)\n",
        "\n",
        "try:\n",
        "    # Extraer el nombre del producto\n",
        "    nombre_element = wait.until(EC.presence_of_element_located((By.XPATH, '//h1[@class=\"ui-pdp-title\"]')))\n",
        "    nombre = nombre_element.text\n",
        "\n",
        "    # Extraer el precio del producto\n",
        "    precio_element = wait.until(EC.presence_of_element_located((By.XPATH, '//span[contains(@class, \"andes-money-amount__fraction\")]')))\n",
        "    precio = precio_element.text\n",
        "\n",
        "    # Extraer el vendedor del producto\n",
        "    cantidad_element = wait.until(EC.presence_of_element_located((By.XPATH, '//span[contains(@class, \"ui-pdp-buybox__quantity__selected\")]')))\n",
        "    cantidad = cantidad_element.text\n",
        "\n",
        "    # Crear un DataFrame con la información extraída\n",
        "    df_reloj_mercadolibre = pd.DataFrame({\n",
        "        'Nombre': [nombre],\n",
        "        'Precio': [precio],\n",
        "        'Cantidad': [cantidad]\n",
        "    })\n",
        "\n",
        "    # Mostrar el DataFrame\n",
        "    print(df_reloj_mercadolibre)\n",
        "\n",
        "    # Guardar el DataFrame en un archivo CSV\n",
        "    df_reloj_mercadolibre.to_csv('reloj_mercadolibre.csv', index=False, encoding='utf-8')\n",
        "    print(\"Datos guardados en 'reloj_mercadolibre.csv'\")\n",
        "\n",
        "except Exception as e:\n",
        "    print(f\"Error al extraer datos del producto: {e}\")\n",
        "\n",
        "# Cerrar el navegador\n",
        "driver.quit()\n"
      ],
      "metadata": {
        "colab": {
          "base_uri": "https://localhost:8080/"
        },
        "id": "1ihxAk8QSyxt",
        "outputId": "8a14a0f5-0107-4d92-d97a-9470a044e1db"
      },
      "execution_count": null,
      "outputs": [
        {
          "output_type": "stream",
          "name": "stdout",
          "text": [
            "                                              Nombre   Precio  Cantidad\n",
            "0  Reloj G-force At801 Automatico Tipo Rolx Acero...  419.860  1 unidad\n",
            "Datos guardados en 'reloj_mercadolibre.csv'\n"
          ]
        }
      ]
    },
    {
      "cell_type": "code",
      "source": [
        "import pandas as pd\n",
        "\n",
        "# Lee el archivo CSV generado\n",
        "df_reloj_mercadolibre = pd.read_csv('reloj_mercadolibre.csv')\n",
        "\n",
        "# Muestra el contenido del DataFrame\n",
        "print(\"Contenido del archivo CSV:\")\n",
        "print(df_reloj_mercadolibre)"
      ],
      "metadata": {
        "colab": {
          "base_uri": "https://localhost:8080/"
        },
        "id": "KLKrbcy27Yvb",
        "outputId": "e8059153-2753-4967-b18e-14da47f33b63"
      },
      "execution_count": null,
      "outputs": [
        {
          "output_type": "stream",
          "name": "stdout",
          "text": [
            "Contenido del archivo CSV:\n",
            "                                              Nombre  Precio  Cantidad\n",
            "0  Reloj G-force At801 Automatico Tipo Rolx Acero...  419.86  1 unidad\n"
          ]
        }
      ]
    },
    {
      "cell_type": "markdown",
      "source": [
        "**Evidencia de Aprendizaje 2** - Optimizando la productividad en el mundo del software\n",
        "\n",
        "**Estudiante:** Maria Johana Arenas Usuga\n",
        "\n",
        "**Docente:** Andrés Felipe Palacio\n",
        "\n",
        "**Curso:** Programación para Análisis de Datos - PREICA2402B020101\n",
        "\n",
        "Universidad Digital de Antioquia - IUDIGITAL\n",
        "\n",
        "Ingeniería de Software y Datos\n",
        "\n",
        "Noviembre de 2024"
      ],
      "metadata": {
        "id": "zSENMglj-Azc"
      }
    },
    {
      "cell_type": "markdown",
      "source": [
        "##EA2.Optimizando la productividad en el mundo del software\n",
        "##Objetivo\n",
        "Aplicar la metodología control de versionamiento en Github mediante DevOps."
      ],
      "metadata": {
        "id": "cPUebi5op3w7"
      }
    },
    {
      "cell_type": "code",
      "source": [
        "#Clonar, este codigo se utiliza para hacer una copia del servicio\n",
        "!git clone https://github.com/MariaUsuga/EA2_Optimizando.git"
      ],
      "metadata": {
        "colab": {
          "base_uri": "https://localhost:8080/"
        },
        "id": "ZYScjZXFtUtj",
        "outputId": "b32d04a3-3373-453d-da01-2e8f7fdac35e"
      },
      "execution_count": 1,
      "outputs": [
        {
          "output_type": "stream",
          "name": "stdout",
          "text": [
            "Cloning into 'EA2_Optimizando'...\n",
            "remote: Enumerating objects: 11, done.\u001b[K\n",
            "remote: Counting objects: 100% (11/11), done.\u001b[K\n",
            "remote: Compressing objects: 100% (11/11), done.\u001b[K\n",
            "remote: Total 11 (delta 3), reused 0 (delta 0), pack-reused 0 (from 0)\u001b[K\n",
            "Receiving objects: 100% (11/11), 18.45 KiB | 3.07 MiB/s, done.\n",
            "Resolving deltas: 100% (3/3), done.\n"
          ]
        }
      ]
    },
    {
      "cell_type": "code",
      "source": [
        "# para ver donde esta parado ejecuta esta linea de codigo\n",
        "!li"
      ],
      "metadata": {
        "colab": {
          "base_uri": "https://localhost:8080/"
        },
        "id": "3moMiMi_vcXc",
        "outputId": "73bd2c6c-1f14-44e0-b102-451344bf2128"
      },
      "execution_count": 2,
      "outputs": [
        {
          "output_type": "stream",
          "name": "stdout",
          "text": [
            "/bin/bash: line 1: li: command not found\n"
          ]
        }
      ]
    },
    {
      "cell_type": "code",
      "source": [
        "# Install the selenium library\n",
        "#!pip install selenium\n",
        "import sys\n",
        "import pandas as pd\n",
        "from selenium import webdriver\n",
        "from selenium.webdriver.common.by import By\n",
        "from selenium.webdriver.support.ui import WebDriverWait\n",
        "from selenium.webdriver.support import expected_conditions as EC\n",
        "\n",
        "# Configuración de Selenium\n",
        "options = webdriver.ChromeOptions()\n",
        "options.add_argument('--headless')  # Ejecuta en modo headless\n",
        "options.add_argument('--no-sandbox')\n",
        "options.add_argument('--disable-dev-shm-usage')\n",
        "\n",
        "driver = webdriver.Chrome(options=options)\n",
        "\n",
        "# URL del producto específico en Mercado Libre\n",
        "url = \"https://articulo.mercadolibre.com.co/MCO-1478611875-reloj-g-force-at801-automatico-tipo-rolx-acero-estuche-_JM\"\n",
        "driver.get(url)\n",
        "\n",
        "# Espera a que los elementos estén presentes en la página\n",
        "wait = WebDriverWait(driver, 10)\n",
        "\n",
        "try:\n",
        "    # Extraer el nombre del producto\n",
        "    nombre_element = wait.until(EC.presence_of_element_located((By.XPATH, '//h1[@class=\"ui-pdp-title\"]')))\n",
        "    nombre = nombre_element.text\n",
        "\n",
        "    # Extraer el precio del producto\n",
        "    precio_element = wait.until(EC.presence_of_element_located((By.XPATH, '//span[contains(@class, \"andes-money-amount__fraction\")]')))\n",
        "    precio = precio_element.text\n",
        "\n",
        "    # Extraer la cantidad disponible del producto (si aplica)\n",
        "    try:\n",
        "        cantidad_element = wait.until(EC.presence_of_element_located((By.XPATH, '//span[contains(@class, \"ui-pdp-buybox__quantity__selected\")]')))\n",
        "        cantidad = cantidad_element.text\n",
        "    except:\n",
        "        cantidad = \"No especificado\"\n",
        "\n",
        "    # Extraer la forma de pago (por ejemplo: efectivo, tarjeta, cuotas)\n",
        "    try:\n",
        "        pago_elements = wait.until(EC.presence_of_all_elements_located((By.XPATH, '//div[contains(@class, \"ui-pdp-payment-methods__container\")]//span')))\n",
        "        formas_pago = [pago.text for pago in pago_elements if pago.text.strip() != \"\"]\n",
        "        formas_pago = \", \".join(formas_pago)\n",
        "    except:\n",
        "        formas_pago = \"No especificado\"\n",
        "\n",
        "    # Crear un DataFrame con la información extraída\n",
        "    df_reloj_mercadolibre = pd.DataFrame({\n",
        "        'Nombre': [nombre],\n",
        "        'Precio': [precio],\n",
        "        'Cantidad': [cantidad],\n",
        "        'Formas de Pago': [formas_pago]\n",
        "    })\n",
        "\n",
        "    # Mostrar el DataFrame\n",
        "    print(df_reloj_mercadolibre)\n",
        "\n",
        "    # Guardar el DataFrame en un archivo CSV\n",
        "    df_reloj_mercadolibre.to_csv('reloj_mercadolibre.csv', index=False, encoding='utf-8')\n",
        "    print(\"Datos guardados en 'reloj_mercadolibre.csv'\")\n",
        "\n",
        "except Exception as e:\n",
        "    print(f\"Error al extraer datos del producto: {e}\")\n",
        "\n",
        "# Cerrar el navegador\n",
        "driver.quit()\n"
      ],
      "metadata": {
        "colab": {
          "base_uri": "https://localhost:8080/"
        },
        "id": "TPWL95ozvIDm",
        "outputId": "ee3358b5-7497-4e62-eb9c-4f921a43ffe7"
      },
      "execution_count": 5,
      "outputs": [
        {
          "output_type": "stream",
          "name": "stdout",
          "text": [
            "                                              Nombre   Precio  Cantidad  \\\n",
            "0  Reloj G-force At801 Automatico Tipo Rolx Acero...  419.860  1 unidad   \n",
            "\n",
            "    Formas de Pago  \n",
            "0  No especificado  \n",
            "Datos guardados en 'reloj_mercadolibre.csv'\n"
          ]
        }
      ]
    },
    {
      "cell_type": "markdown",
      "source": [
        "Resultado esperado:\n",
        "El CSV incluirá las columnas:\n",
        "\n",
        "Nombre: Nombre del producto.\n",
        "Precio: Precio del producto.\n",
        "Cantidad: Disponibilidad del producto.\n",
        "Formas de Pago: Métodos de pago soportados (por ejemplo: \"Tarjeta de crédito, Efectivo, Transferencia\"). Este ultimo no se tenia en la primer entrega, se adiciona para la segunda entrega."
      ],
      "metadata": {
        "id": "QFEpW0g21CIE"
      }
    },
    {
      "cell_type": "markdown",
      "source": [
        "##Introducción\n",
        "En la era digital, el análisis de productos en línea se ha convertido en una herramienta esencial para comprender las tendencias del mercado y tomar decisiones estratégicas. Este proyecto explora el uso de técnicas de web scraping para extraer información relevante de la plataforma de comercio electrónico Mercado Libre, centrándose en la categoría de relojes.\n",
        "Adicionalmente, se implementó un enfoque DevOps utilizando Git y GitHub para el control de versiones y GitHub Actions para automatizar pruebas y despliegue continuo, asegurando la calidad y agilidad en el desarrollo del proyecto.\n",
        "\n",
        "El objetivo principal de este proyecto es demostrar cómo combinar estas herramientas y técnicas para obtener datos valiosos, automatizar procesos y presentar un flujo de trabajo eficiente que pueda aplicarse en un entorno real de desarrollo de software.\n",
        "\n"
      ],
      "metadata": {
        "id": "1vKOqHJ128XU"
      }
    },
    {
      "cell_type": "markdown",
      "source": [
        "##Descripción de la página y artículo analizado\n",
        "La plataforma seleccionada para el análisis es Mercado Libre, una de las principales páginas de comercio electrónico en América Latina. Específicamente, se trabajó con el análisis de un reloj listado en la siguiente URL:\n",
        "https://articulo.mercadolibre.com.co/MCO-1478611875-reloj-g-force-at801-automatico-tipo-rolx-acero-estuche-_JM\n",
        "\n",
        "El reloj pertenece a un segmento con alta demanda y una gran variedad de marcas y precios. Este análisis permite comprender cómo los productos son presentados, incluyendo aspectos como el nombre, precio, disponibilidad y formas de pago, información clave para el análisis de mercado.\n",
        "Esta ultima se incluyo para esta entrega (Formas de pago), considerando importante conocer la forma de pago que el cliente desea realizar."
      ],
      "metadata": {
        "id": "16ON7PN03Nrc"
      }
    },
    {
      "cell_type": "markdown",
      "source": [
        "\n",
        "##Descripción del tema de interés (Evidencia de aprendizaje Unidad 2)\n",
        "\n",
        "El interés de esta práctica radica en integrar herramientas de desarrollo y automatización (Git y GitHub) con el análisis de datos mediante web scraping. La meta es no solo extraer datos, sino también documentar y gestionar el proyecto bajo un enfoque DevOps, utilizando pipelines de CI/CD para validar el código automáticamente y facilitar el despliegue continuo.\n",
        "\n",
        "Este enfoque asegura que las herramientas de scraping sean confiables y reutilizables, además de permitir que el equipo de desarrollo colabore eficientemente en un entorno controlado.\n",
        "\n",
        "\n",
        "\n"
      ],
      "metadata": {
        "id": "ECRR7wwI3wwT"
      }
    },
    {
      "cell_type": "markdown",
      "source": [
        "En la entrega 1 se tiene en el dataframe nombre, precio y cantidad, se incluye otra columna Formas de pago, explicar porque se conidera importante incluir, argumentar, pienso que es importante conocer como va a ser la forma de pago que el cliente va a utilizar para realizar la compra porque permite entender mejor las preferencias y comportamientos de los consumidores al momento de realizar una transacción. Conocer las formas de pago más utilizadas puede proporcionar insights valiosos para ajustar estrategias de venta y mejorar la experiencia del cliente.\n",
        "\n",
        "Por ejemplo, si la mayoría de los clientes prefiere pagos a través de tarjetas de crédito o débito, sería esencial ofrecer opciones seguras y confiables para este método. Por otro lado, si hay una alta demanda de pagos a través de plataformas digitales como Mercado Pago, se podría explorar incentivos específicos, como descuentos o promociones, para fomentar su uso.\n",
        "\n",
        "Además, incluir esta información en el análisis ayuda a identificar posibles barreras para la conversión, como la falta de opciones de pago adecuadas o la necesidad de financiar compras. En el caso de productos como relojes, que pueden tener un costo elevado, las opciones de financiamiento o pago a cuotas podrían ser determinantes para el cliente.\n",
        "\n",
        "En resumen, incorporar la columna \"Formas de pago\" en el análisis no solo enriquece la comprensión del proceso de compra, sino que también apoya la toma de decisiones estratégicas para optimizar las ventas y satisfacer mejor las necesidades del mercado."
      ],
      "metadata": {
        "id": "gV8zO_ko7bOL"
      }
    },
    {
      "cell_type": "markdown",
      "source": [
        "##Objetivos\n",
        "#Objetivo General\n",
        "Desarrollar un proyecto de web scraping con control de versiones en Git/GitHub e implementar un pipeline CI/CD para pruebas automatizadas y despliegue continuo.\n",
        "#Objetivos Específicos\n",
        "1.\tExtraer información clave de productos en Mercado Libre utilizando Selenium.\n",
        "2.\tConfigurar un repositorio en GitHub que documente el proyecto y utilice buenas prácticas de control de versiones.\n",
        "3.\tDiseñar un pipeline CI/CD en GitHub Actions que valide la funcionalidad del script mediante pruebas automatizadas.\n",
        "4.\tGenerar un dataset con la información extraída y analizarla para obtener insights.\n",
        "5.\tDocumentar y presentar un flujo de trabajo DevOps claro y funcional.\n"
      ],
      "metadata": {
        "id": "7yCC_8Qs4nWU"
      }
    },
    {
      "cell_type": "markdown",
      "source": [
        "#Metodología empleada de Scraping\n",
        "**Herramientas utilizadas**\n",
        "\n",
        "•\tLenguaje de programación: Python.\n",
        "\n",
        "•\tLibrerías: Selenium para el scraping, Pandas para la manipulación de datos, Pytest para las pruebas automatizadas.\n",
        "\n",
        "•\tEntorno de desarrollo: Git y GitHub para la gestión del código.\n",
        "\n",
        "**Proceso de desarrollo**\n",
        "\n",
        "1.\tDiseño del scraper: Se utilizó Selenium para automatizar la extracción de datos del producto, incluyendo nombre, precio, cantidad disponible y formas de pago.\n",
        "2.\tGestión de versiones: Se configuró un repositorio en GitHub, con ramas para desarrollo (dev) y producción (main), siguiendo un flujo de trabajo colaborativo.\n",
        "3.\tAutomatización de pruebas: Se desarrollaron pruebas unitarias para validar la funcionalidad del scraper, asegurando la extracción correcta de los datos.\n",
        "4.\tPipeline de CI/CD: Se implementó un pipeline en GitHub Actions que ejecuta las pruebas automáticamente en cada push o pull request hacia la rama main.\n"
      ],
      "metadata": {
        "id": "5ejlkQvS5mBu"
      }
    },
    {
      "cell_type": "markdown",
      "source": [
        "#Resultados obtenidos\n",
        "\n",
        "1.\tScraper funcional: El script desarrollado extrae correctamente información clave del producto analizado. Los datos se almacenan en un archivo CSV, listo para análisis.\n",
        "2.\tFlujo CI/CD: El pipeline implementado ejecuta pruebas automáticamente y simula un despliegue continuo. Esto garantiza la calidad del código antes de integrar cambios en la rama principal.\n",
        "3.\tColaboración optimizada: El uso de Git y GitHub permitió gestionar las versiones del proyecto y documentar cada cambio de manera clara y estructurada.\n"
      ],
      "metadata": {
        "id": "wEaofrRj5uG8"
      }
    },
    {
      "cell_type": "markdown",
      "source": [
        "#Conclusiones\n",
        "•\tLa combinación de web scraping y DevOps proporciona un flujo de trabajo eficiente para proyectos de análisis de datos.\n",
        "\n",
        "•\tLa automatización mediante GitHub Actions mejora la calidad del código y reduce tiempos de desarrollo.\n",
        "\n",
        "•\tEste enfoque es replicable en otros contextos, especialmente en análisis de mercado y desarrollo de software orientado a datos.\n"
      ],
      "metadata": {
        "id": "gnUSztMW5-ja"
      }
    },
    {
      "cell_type": "markdown",
      "source": [
        "#Bibliografía\n",
        "\n",
        "•\tMercado Libre. (n.d.). Productos en línea. Recuperado de https://mercadolibre.com.co\n",
        "\n",
        "•\tSelenium Documentation. (n.d.). Selenium WebDriver. Recuperado de https://www.selenium.dev/documentation/\n",
        "\n",
        "•\tGitHub Actions Documentation. (n.d.). Automate your workflow. Recuperado de https://docs.github.com/actions\n",
        "\n",
        "•\tMcKinney, W. (2017). Python for Data Analysis. O'Reilly Media.\n"
      ],
      "metadata": {
        "id": "_Grx-7S16EPb"
      }
    },
    {
      "cell_type": "markdown",
      "source": [
        "##LINK GITHUB\n",
        "https://github.com/MariaUsuga/EA2_Optimizando.git"
      ],
      "metadata": {
        "id": "HDb2BS95-pSz"
      }
    }
  ]
}