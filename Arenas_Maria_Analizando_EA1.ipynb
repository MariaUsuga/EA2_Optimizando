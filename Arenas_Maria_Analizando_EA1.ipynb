{
  "nbformat": 4,
  "nbformat_minor": 0,
  "metadata": {
    "colab": {
      "provenance": [],
      "authorship_tag": "ABX9TyM9tIyoucfeOgZoMr/QJBBr",
      "include_colab_link": true
    },
    "kernelspec": {
      "name": "python3",
      "display_name": "Python 3"
    },
    "language_info": {
      "name": "python"
    }
  },
  "cells": [
    {
      "cell_type": "markdown",
      "metadata": {
        "id": "view-in-github",
        "colab_type": "text"
      },
      "source": [
        "<a href=\"https://colab.research.google.com/github/MariaUsuga/EA2_Optimizando/blob/main/Arenas_Maria_Analizando_EA1.ipynb\" target=\"_parent\"><img src=\"https://colab.research.google.com/assets/colab-badge.svg\" alt=\"Open In Colab\"/></a>"
      ]
    },
    {
      "cell_type": "markdown",
      "source": [
        "**Evidencia de Aprendizaje 2** - Optimizando la productividad en el mundo del software\n",
        "\n",
        "**Estudiante:** Maria Johana Arenas Usuga\n",
        "\n",
        "**Docente:** Andrés Felipe Palacio\n",
        "\n",
        "**Curso:** Programación para Análisis de Datos - PREICA2402B020101\n",
        "\n",
        "Universidad Digital de Antioquia - IUDIGITAL\n",
        "\n",
        "Ingeniería de Software y Datos\n",
        "\n",
        "Noviembre de 2024\n",
        "\n"
      ],
      "metadata": {
        "id": "RoaIOL0-RzgE"
      }
    },
    {
      "cell_type": "markdown",
      "source": [
        "## INTRODUCCIÓN\n",
        "\n",
        "En la era digital actual, el comercio electrónico ha transformado la forma en que los consumidores adquieren productos y servicios. Plataformas como Mercado Libre se han consolidado como líderes en este campo, facilitando transacciones y ofreciendo una amplia gama de productos a los consumidores. Este trabajo se centra en la aplicación de técnicas de web scraping utilizando Selenium para extraer datos relevantes de un producto específico en Mercado Libre, con el objetivo de analizar el comportamiento de precios y descripciones en el mercado de relojes."
      ],
      "metadata": {
        "id": "FvqQmZzeOZH7"
      }
    },
    {
      "cell_type": "markdown",
      "source": [
        "##Descripción de la página y artículo a analizar.\n",
        "\n",
        "Mercado Libre es una de las plataformas de comercio electrónico más importantes en América Latina, ofreciendo una amplia variedad de productos en categorías que van desde tecnología hasta moda y hogar. En esta práctica, se ha seleccionado un reloj específico: el Reloj G-Force AT801 Automático Tipo Rolex Acero Estuche. Este producto es un ejemplo representativo de la categoría de relojes en Mercado Libre, que se caracteriza por su diversidad en estilos y precios. A través del análisis de este artículo, se busca entender cómo se presentan los productos en la plataforma y cómo se comunican sus características a los consumidores."
      ],
      "metadata": {
        "id": "owyLFapSf-nF"
      }
    },
    {
      "cell_type": "markdown",
      "source": [
        "##Descripción del tema de interés que deseas desarrollar en la primera práctica.\n",
        "El tema de interés que se desea desarrollar en esta práctica es el análisis de productos en línea a través de técnicas de web scraping, específicamente en la plataforma de comercio electrónico Mercado Libre. El enfoque se centra en la categoría de relojes, un segmento del mercado que no solo es popular entre los consumidores, sino que también presenta una amplia variedad de marcas, estilos y rangos de precios.\n",
        "\n",
        "A medida que las compras en línea continúan creciendo, la capacidad de extraer y analizar datos de productos se vuelve cada vez más crucial para emprendedores y consumidores. La información sobre precios, descripciones y características de los productos permite a los vendedores entender mejor el comportamiento del mercado y ajustar sus estrategias de ventas. Por otro lado, los consumidores se benefician al poder comparar diferentes opciones y precios, facilitando una toma de decisiones más informada.\n",
        "\n",
        "La práctica de web scraping mediante Selenium proporciona una herramienta poderosa para obtener datos de la web de manera automatizada. En este contexto, se propone utilizar esta técnica para extraer información relevante sobre un reloj específico en Mercado Libre, lo que permitirá no solo obtener el nombre y el precio del producto, sino también entender cómo se presentan los productos en la plataforma. Este análisis no solo ayudará a identificar las tendencias de precios, sino que también puede ofrecer insights sobre la competencia y la demanda en el mercado de relojes.\n",
        "\n",
        "Al final de esta práctica, se espera obtener un conjunto de datos que permita realizar un análisis comparativo entre el reloj seleccionado y otros productos similares en la plataforma, lo que facilitará una comprensión más profunda del comportamiento del consumidor y las dinámicas de precios en el comercio electrónico.\n",
        "\n"
      ],
      "metadata": {
        "id": "2Q4WnViLQQ6I"
      }
    },
    {
      "cell_type": "markdown",
      "source": [
        "##Objetivos: formula los objetivos a partir de la siguiente pregunta: ¿por qué deseas analizar este artículo y la empresa de comercio?\n",
        "El objetivo principal de este análisis es comprender mejor el comportamiento del mercado de relojes masculinos, debido a que en la actualidad tengo un emprendimiento en venta de relojes y esta referencia en particular la solicitan con frecuencia, se hace a través de la plataforma de comercio electrónico Mercado Libre, ya que en esta página web se ha identificado una alta demanda por este tipo de productos. Los objetivos específicos son los siguientes:\n",
        "\n",
        "Identificar las Tendencias del Mercado: Analizar los relojes masculinos más vendidos en Mercado Libre para identificar patrones de compra, preferencias de los consumidores y características que los productos exitosos comparten.\n",
        "\n",
        "Comparar Precios: Evaluar los precios de los relojes masculinos ofrecidos en la plataforma para determinar un rango de precios competitivo y entender cómo posicionar mis propios productos en el mercado.\n",
        "\n",
        "Evaluar la Competencia: Estudiar a otros vendedores en Mercado Libre que ofrecen relojes masculinos para identificar estrategias de venta y marketing que pueden ser útiles para mi emprendimiento.\n",
        "\n",
        "Tomar Decisiones Informadas: Utilizar los datos recopilados a través del web scraping para fundamentar decisiones relacionadas con el inventario, las promociones y las características de los productos que se deben priorizar.\n",
        "\n",
        "Optimizar la Propuesta de Valor: Comprender qué atributos valoran más los consumidores al momento de comprar relojes masculinos, lo que permitirá mejorar la oferta de productos y la estrategia de comunicación hacia los clientes.\n",
        "\n",
        "A través de estos objetivos, se espera no solo mejorar la competitividad de mi negocio en el sector de relojes, sino también contribuir a una toma de decisiones más informada y estratégica en el crecimiento de mi emprendimiento."
      ],
      "metadata": {
        "id": "nN3wyPKLiPuY"
      }
    },
    {
      "cell_type": "markdown",
      "source": [
        "##Metodología empleada de scraping. - Selenium\n",
        "La metodología empleada para llevar a cabo este análisis es el web scraping utilizando Selenium, una herramienta que permite la automatización de navegadores web. A través de Selenium, se ha creado un script en Python que realiza las siguientes acciones:\n",
        "\n",
        "Configuración de Selenium: Se configura el navegador Chrome en modo \"headless\" (sin interfaz gráfica) para facilitar la extracción de datos sin abrir una ventana de navegador visible.\n",
        "Acceso a la URL del producto: Se ingresa la dirección del reloj específico en Mercado Libre.\n",
        "Espera de elementos: Se utilizan condiciones de espera para garantizar que el script no intente extraer información antes de que esté disponible en la página.\n",
        "Extracción de datos: Se capturan el nombre, el precio y las unidades disponibles (cantidad) del reloj utilizando selectores XPath, los cuales permiten localizar los elementos HTML relevantes en la página.\n",
        "Almacenamiento de datos: Los datos extraídos se almacenan en un DataFrame de pandas y se guardan en un archivo CSV para su posterior análisis."
      ],
      "metadata": {
        "id": "6xf5rnVEj9_r"
      }
    },
    {
      "cell_type": "markdown",
      "source": [
        "##Resultados y conclusiones.\n",
        "\n",
        "#Resultados\n",
        "A través del análisis realizado en la plataforma de comercio electrónico Mercado Libre, se lograron extraer datos sobre varios relojes masculinos, incluyendo su nombre, precio y características relevantes. Estos datos fueron organizados en un DataFrame y guardados en un archivo CSV para su posterior análisis.\n",
        "\n",
        "**Los resultados preliminares indican que:**\n",
        "\n",
        "Alta Variabilidad en Precios: Los precios de los relojes masculinos varían considerablemente, con opciones que van desde precios accesibles hasta modelos de lujo. Esta variabilidad sugiere que hay un amplio espectro de consumidores, lo que podría presentar oportunidades para diversificar la oferta de productos en mi emprendimiento.\n",
        "\n",
        "Preferencias de Marca y Estilo: Se observó que ciertos modelos y marcas son particularmente populares, lo que indica una preferencia por características específicas como la durabilidad, el diseño y la reputación de la marca. Esto resalta la importancia de seleccionar cuidadosamente los productos que se ofrecerán en el mercado.\n",
        "\n",
        "Tendencias en las Descripciones de Productos: Los anuncios que destacan características como la resistencia al agua, la duración de la batería y el material del reloj tienden a captar más la atención de los consumidores. Esta información es clave para optimizar las descripciones de los productos que se ofrecerán.\n",
        "\n",
        "Demografía de Compradores: A través de la observación de los productos más vendidos, se infiere que hay un segmento demográfico considerablemente interesado en relojes de alta calidad a precios razonables, lo que puede ayudar a dirigir estrategias de marketing más efectivas.\n",
        "\n",
        "#Conclusiones\n",
        "\n",
        "El análisis de mercado realizado a través de web scraping en Mercado Libre ha proporcionado información valiosa sobre la demanda de relojes masculinos y la competencia en este nicho. A partir de los resultados obtenidos, se pueden extraer las siguientes conclusiones:\n",
        "\n",
        "Oportunidades de Crecimiento: Existe una clara oportunidad para crecer en el mercado de relojes masculinos. Al identificar los productos más vendidos y las preferencias de los consumidores, puedo adaptar mi oferta para satisfacer la demanda del mercado.\n",
        "\n",
        "Necesidad de Estrategias de Marketing Efectivas: La información recopilada indica que una buena estrategia de marketing, centrada en las características apreciadas por los consumidores, puede aumentar la visibilidad y las ventas de mis productos.\n",
        "\n",
        "Importancia de la Monitorización del Mercado: El uso de herramientas como Selenium para realizar web scraping puede ser un recurso valioso no solo para el análisis inicial, sino también para el monitoreo continuo del mercado, permitiendo ajustes rápidos y informados en la estrategia de negocios.\n",
        "\n",
        "Fortalecimiento de la Propuesta de Valor: A partir de los insights obtenidos, se pueden implementar mejoras en la propuesta de valor de mi emprendimiento, lo que potencialmente resultará en un aumento en la satisfacción del cliente y en las ventas.\n",
        "\n",
        "En resumen, este análisis no solo proporciona una base sólida para entender el mercado de relojes masculinos, sino que también establece un camino claro hacia la optimización y el crecimiento de mi emprendimiento en el sector."
      ],
      "metadata": {
        "id": "MCBXYMfDkoAL"
      }
    },
    {
      "cell_type": "code",
      "execution_count": null,
      "metadata": {
        "colab": {
          "base_uri": "https://localhost:8080/"
        },
        "id": "Moef0ctRJg7j",
        "outputId": "915af7f6-1213-478e-ff79-90daaa1da1e0"
      },
      "outputs": [
        {
          "output_type": "stream",
          "name": "stdout",
          "text": [
            "Requirement already satisfied: selenium in /usr/local/lib/python3.10/dist-packages (4.26.1)\n",
            "Requirement already satisfied: urllib3<3,>=1.26 in /usr/local/lib/python3.10/dist-packages (from urllib3[socks]<3,>=1.26->selenium) (2.2.3)\n",
            "Requirement already satisfied: trio~=0.17 in /usr/local/lib/python3.10/dist-packages (from selenium) (0.27.0)\n",
            "Requirement already satisfied: trio-websocket~=0.9 in /usr/local/lib/python3.10/dist-packages (from selenium) (0.11.1)\n",
            "Requirement already satisfied: certifi>=2021.10.8 in /usr/local/lib/python3.10/dist-packages (from selenium) (2024.8.30)\n",
            "Requirement already satisfied: typing_extensions~=4.9 in /usr/local/lib/python3.10/dist-packages (from selenium) (4.12.2)\n",
            "Requirement already satisfied: websocket-client~=1.8 in /usr/local/lib/python3.10/dist-packages (from selenium) (1.8.0)\n",
            "Requirement already satisfied: attrs>=23.2.0 in /usr/local/lib/python3.10/dist-packages (from trio~=0.17->selenium) (24.2.0)\n",
            "Requirement already satisfied: sortedcontainers in /usr/local/lib/python3.10/dist-packages (from trio~=0.17->selenium) (2.4.0)\n",
            "Requirement already satisfied: idna in /usr/local/lib/python3.10/dist-packages (from trio~=0.17->selenium) (3.10)\n",
            "Requirement already satisfied: outcome in /usr/local/lib/python3.10/dist-packages (from trio~=0.17->selenium) (1.3.0.post0)\n",
            "Requirement already satisfied: sniffio>=1.3.0 in /usr/local/lib/python3.10/dist-packages (from trio~=0.17->selenium) (1.3.1)\n",
            "Requirement already satisfied: exceptiongroup in /usr/local/lib/python3.10/dist-packages (from trio~=0.17->selenium) (1.2.2)\n",
            "Requirement already satisfied: wsproto>=0.14 in /usr/local/lib/python3.10/dist-packages (from trio-websocket~=0.9->selenium) (1.2.0)\n",
            "Requirement already satisfied: pysocks!=1.5.7,<2.0,>=1.5.6 in /usr/local/lib/python3.10/dist-packages (from urllib3[socks]<3,>=1.26->selenium) (1.7.1)\n",
            "Requirement already satisfied: h11<1,>=0.9.0 in /usr/local/lib/python3.10/dist-packages (from wsproto>=0.14->trio-websocket~=0.9->selenium) (0.14.0)\n",
            "Get:1 http://security.ubuntu.com/ubuntu jammy-security InRelease [129 kB]\n",
            "Hit:2 https://cloud.r-project.org/bin/linux/ubuntu jammy-cran40/ InRelease\n",
            "Hit:3 https://developer.download.nvidia.com/compute/cuda/repos/ubuntu2204/x86_64  InRelease\n",
            "Hit:4 https://r2u.stat.illinois.edu/ubuntu jammy InRelease\n",
            "Hit:5 http://archive.ubuntu.com/ubuntu jammy InRelease\n",
            "Get:6 http://archive.ubuntu.com/ubuntu jammy-updates InRelease [128 kB]\n",
            "Hit:7 https://ppa.launchpadcontent.net/deadsnakes/ppa/ubuntu jammy InRelease\n",
            "Get:8 http://security.ubuntu.com/ubuntu jammy-security/universe amd64 Packages [1,162 kB]\n",
            "Hit:9 https://ppa.launchpadcontent.net/graphics-drivers/ppa/ubuntu jammy InRelease\n",
            "Get:10 http://archive.ubuntu.com/ubuntu jammy-backports InRelease [127 kB]\n",
            "Hit:11 https://ppa.launchpadcontent.net/ubuntugis/ppa/ubuntu jammy InRelease\n",
            "Get:12 http://security.ubuntu.com/ubuntu jammy-security/main amd64 Packages [2,389 kB]\n",
            "Fetched 3,936 kB in 2s (1,688 kB/s)\n",
            "Reading package lists... Done\n",
            "W: Skipping acquire of configured file 'main/source/Sources' as repository 'https://r2u.stat.illinois.edu/ubuntu jammy InRelease' does not seem to provide it (sources.list entry misspelt?)\n",
            "Reading package lists... Done\n",
            "Building dependency tree... Done\n",
            "Reading state information... Done\n",
            "chromium-chromedriver is already the newest version (1:85.0.4183.83-0ubuntu2.22.04.1).\n",
            "0 upgraded, 0 newly installed, 0 to remove and 57 not upgraded.\n",
            "cp: '/usr/lib/chromium-browser/chromedriver' and '/usr/bin/chromedriver' are the same file\n"
          ]
        }
      ],
      "source": [
        "# Instalación de los paquetes\n",
        "\n",
        "!pip install selenium\n",
        "!apt-get update\n",
        "!apt install chromium-chromedriver\n",
        "!cp /usr/lib/chromium-browser/chromedriver /usr/bin"
      ]
    },
    {
      "cell_type": "code",
      "source": [
        "import sys\n",
        "import pandas as pd\n",
        "from selenium import webdriver\n",
        "from selenium.webdriver.common.by import By\n",
        "from selenium.webdriver.support.ui import WebDriverWait\n",
        "from selenium.webdriver.support import expected_conditions as EC\n",
        "\n",
        "# Configuración de Selenium\n",
        "options = webdriver.ChromeOptions()\n",
        "options.add_argument('--headless')  # Ejecuta en modo headless\n",
        "options.add_argument('--no-sandbox')\n",
        "options.add_argument('--disable-dev-shm-usage')\n",
        "\n",
        "driver = webdriver.Chrome(options=options)\n",
        "\n",
        "# URL del producto específico en Mercado Libre\n",
        "url = \"https://articulo.mercadolibre.com.co/MCO-1478611875-reloj-g-force-at801-automatico-tipo-rolx-acero-estuche-_JM\"\n",
        "driver.get(url)\n",
        "\n",
        "# Espera a que el título y el precio estén presentes en la página\n",
        "wait = WebDriverWait(driver, 10)\n",
        "\n",
        "try:\n",
        "    # Extraer el nombre del producto\n",
        "    nombre_element = wait.until(EC.presence_of_element_located((By.XPATH, '//h1[@class=\"ui-pdp-title\"]')))\n",
        "    nombre = nombre_element.text\n",
        "\n",
        "    # Extraer el precio del producto\n",
        "    precio_element = wait.until(EC.presence_of_element_located((By.XPATH, '//span[contains(@class, \"andes-money-amount__fraction\")]')))\n",
        "    precio = precio_element.text\n",
        "\n",
        "    # Extraer el vendedor del producto\n",
        "    cantidad_element = wait.until(EC.presence_of_element_located((By.XPATH, '//span[contains(@class, \"ui-pdp-buybox__quantity__selected\")]')))\n",
        "    cantidad = cantidad_element.text\n",
        "\n",
        "    # Crear un DataFrame con la información extraída\n",
        "    df_reloj_mercadolibre = pd.DataFrame({\n",
        "        'Nombre': [nombre],\n",
        "        'Precio': [precio],\n",
        "        'Cantidad': [cantidad]\n",
        "    })\n",
        "\n",
        "    # Mostrar el DataFrame\n",
        "    print(df_reloj_mercadolibre)\n",
        "\n",
        "    # Guardar el DataFrame en un archivo CSV\n",
        "    df_reloj_mercadolibre.to_csv('reloj_mercadolibre.csv', index=False, encoding='utf-8')\n",
        "    print(\"Datos guardados en 'reloj_mercadolibre.csv'\")\n",
        "\n",
        "except Exception as e:\n",
        "    print(f\"Error al extraer datos del producto: {e}\")\n",
        "\n",
        "# Cerrar el navegador\n",
        "driver.quit()\n"
      ],
      "metadata": {
        "colab": {
          "base_uri": "https://localhost:8080/"
        },
        "id": "1ihxAk8QSyxt",
        "outputId": "8a14a0f5-0107-4d92-d97a-9470a044e1db"
      },
      "execution_count": null,
      "outputs": [
        {
          "output_type": "stream",
          "name": "stdout",
          "text": [
            "                                              Nombre   Precio  Cantidad\n",
            "0  Reloj G-force At801 Automatico Tipo Rolx Acero...  419.860  1 unidad\n",
            "Datos guardados en 'reloj_mercadolibre.csv'\n"
          ]
        }
      ]
    },
    {
      "cell_type": "code",
      "source": [
        "import pandas as pd\n",
        "\n",
        "# Lee el archivo CSV generado\n",
        "df_reloj_mercadolibre = pd.read_csv('reloj_mercadolibre.csv')\n",
        "\n",
        "# Muestra el contenido del DataFrame\n",
        "print(\"Contenido del archivo CSV:\")\n",
        "print(df_reloj_mercadolibre)"
      ],
      "metadata": {
        "colab": {
          "base_uri": "https://localhost:8080/"
        },
        "id": "KLKrbcy27Yvb",
        "outputId": "e8059153-2753-4967-b18e-14da47f33b63"
      },
      "execution_count": null,
      "outputs": [
        {
          "output_type": "stream",
          "name": "stdout",
          "text": [
            "Contenido del archivo CSV:\n",
            "                                              Nombre  Precio  Cantidad\n",
            "0  Reloj G-force At801 Automatico Tipo Rolx Acero...  419.86  1 unidad\n"
          ]
        }
      ]
    },
    {
      "cell_type": "markdown",
      "source": [
        "##EA2.Optimizando la productividad en el mundo del software\n",
        "##Objetivo\n",
        "Aplicar la metodología control de versionamiento en Github mediante DevOps."
      ],
      "metadata": {
        "id": "cPUebi5op3w7"
      }
    },
    {
      "cell_type": "code",
      "source": [
        "#Clonar, este codigo se utiliza para hacer una copia del servicio\n",
        "!git clone https://github.com/MariaUsuga/EA2_Optimizando.git"
      ],
      "metadata": {
        "id": "ZYScjZXFtUtj",
        "outputId": "b32d04a3-3373-453d-da01-2e8f7fdac35e",
        "colab": {
          "base_uri": "https://localhost:8080/"
        }
      },
      "execution_count": 1,
      "outputs": [
        {
          "output_type": "stream",
          "name": "stdout",
          "text": [
            "Cloning into 'EA2_Optimizando'...\n",
            "remote: Enumerating objects: 11, done.\u001b[K\n",
            "remote: Counting objects: 100% (11/11), done.\u001b[K\n",
            "remote: Compressing objects: 100% (11/11), done.\u001b[K\n",
            "remote: Total 11 (delta 3), reused 0 (delta 0), pack-reused 0 (from 0)\u001b[K\n",
            "Receiving objects: 100% (11/11), 18.45 KiB | 3.07 MiB/s, done.\n",
            "Resolving deltas: 100% (3/3), done.\n"
          ]
        }
      ]
    },
    {
      "cell_type": "code",
      "source": [
        "# para ver donde esta parado ejecuta esta linea de codigo\n",
        "!li"
      ],
      "metadata": {
        "id": "3moMiMi_vcXc",
        "outputId": "73bd2c6c-1f14-44e0-b102-451344bf2128",
        "colab": {
          "base_uri": "https://localhost:8080/"
        }
      },
      "execution_count": 2,
      "outputs": [
        {
          "output_type": "stream",
          "name": "stdout",
          "text": [
            "/bin/bash: line 1: li: command not found\n"
          ]
        }
      ]
    }
  ]
}